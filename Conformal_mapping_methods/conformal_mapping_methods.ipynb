{
 "cells": [
  {
   "cell_type": "code",
   "execution_count": 8,
   "metadata": {},
   "outputs": [],
   "source": [
    "# Fornberg's method for computing the conformal map from the interior of the unit disk to \n",
    "# the interior of a smooth, closed curve. It is a Newton-like method for\n",
    "# computing the boundary correspondence. An inner linear system is derived for the New-\n",
    "# ton updates based on the condition that the negatively indexed Fourier coefficients of the\n",
    "# (periodic) boundary values must be 0 for the function to be analytic inside the disk\n",
    "\n",
    "# Fornberg's method for interior regions from B. Fornberg, A numerical\n",
    "# method for conformal mappings, SIAM J. Sci. Stat. Comput., 1 (1980)\n",
    "# 386-400 or \n",
    "# T. K. DeLillo and J. A. Pfaltzgraff, Numerical conformal\n",
    "# mapping methods for simply and doubly connected regions, SIAM J. Sci.\n",
    "# Comput., 19 (1998) 155-171 or \n",
    "\n",
    "# M. Badreddine, A comparison of some numerical conformal mapping methods for simply and multiply \n",
    "# connected domains, Dissertation - Wichita State University, 4-7\n",
    "# https://soar.wichita.edu/items/7daf6648-ff71-49df-aed1-6def99e08755 \n",
    "\n",
    "\n",
    "# n = number of Fourier points.\n",
    "# iterations = number of iterations.\n",
    "# tl = length of curve parmeter interval.\n",
    "# curve = a cell array containing the information about a boundary\n",
    "# curve. The first element is the name of a boundary curve. The rest\n",
    "# are parameters which determine the boundary curve. If the curve is\n",
    "# a spline, the last element of the cell is a case for the spline.\n",
    "# guess = a cell array determining the initial guess for boundary ... correspondence.\n",
    "# center = f(0).\n",
    "# f(n) = f(s(n)) n complex points along curve at s.\n",
    "# s(n) = n values of parameter 0 ≤ s(n) ≤ tl.\n",
    "# erri = successive iteration error.\n",
    "# errfx = discretization error for conformal mapping.\n",
    "# errsx = discretization error for boundary correspondence.\n",
    "# See also WEGAI, WEGSM, WDRHCG.s = tl*(k - 1)/n;\n",
    "# Thomas K. DeLillo, Lianju Wang 06-29-2000.\n",
    "\n",
    "import numpy as np\n",
    "from scipy.interpolate import splev, splrep\n",
    "from scipy.fftpack import fft, ifft\n",
    "import matplotlib.pyplot as plt\n",
    "\n",
    "def fornberg_method(n, itmax, x, y):\n",
    "    # Fornberg's method for interior regions\n",
    "    # Parameters:\n",
    "    # n: number of Fourier points\n",
    "    # itmax: number of iterations\n",
    "    # x, y: arrays containing x and y coordinates of the boundary points\n",
    "    \n",
    "    # Fit x and y with a spline\n",
    "    tck, _ = splrep(x, y, s=0)\n",
    "    t = np.linspace(0, 1, n, endpoint=False)\n",
    "    s = t * np.max(tck[0])  # Initial guess for boundary correspondence\n",
    "    \n",
    "    # Start of Fornberg iteration loop\n",
    "    for it in range(itmax):\n",
    "        # Interpolate using spline\n",
    "        f = splev(s, tck)\n",
    "        e = np.gradient(f)  # Compute gradient for boundary correspondence\n",
    "        \n",
    "        # Discrete Fourier transform\n",
    "        c = fft(f)\n",
    "        \n",
    "        # Apply I(-,N) = diag(1,0,...,0,1,...,1)\n",
    "        n2 = n // 2\n",
    "        c[n2+1:] = 0\n",
    "        \n",
    "        # Inverse discrete Fourier transform\n",
    "        c = ifft(c)\n",
    "        \n",
    "        # Fix f(0) = center\n",
    "        center = 0\n",
    "        a1 = np.real(center * np.conj(e))\n",
    "        b = -np.real(c * np.conj(e)) + a1\n",
    "        \n",
    "        # Conjugate gradient method initialization\n",
    "        v = np.zeros(n)\n",
    "        r = b\n",
    "        p = r\n",
    "        rr = np.dot(r, r)\n",
    "        \n",
    "        # Conjugate gradient iteration\n",
    "        for in_ in range(n):\n",
    "            if np.linalg.norm(p) < 1.0e-14:\n",
    "                break\n",
    "            c = e * p\n",
    "            c = fft(c)\n",
    "            \n",
    "            # Apply I(-,N) = diag(1,0,...,0,1,...,1)\n",
    "            c[n2+1:] = 0\n",
    "            c = ifft(c)\n",
    "            q = np.real(c * np.conj(e))\n",
    "            q[0] = q[0] + p[0] * n / 4\n",
    "            \n",
    "            alpha = rr / np.dot(p, q)\n",
    "            v = v + alpha * p\n",
    "            r = r - alpha * q\n",
    "            rr1 = np.dot(r, r)\n",
    "            \n",
    "            if np.sqrt(rr1) < 1.0e-14:\n",
    "                break\n",
    "                \n",
    "            beta = rr1 / rr\n",
    "            p = r + beta * p\n",
    "            rr = rr1\n",
    "        \n",
    "        # Update boundary correspondence\n",
    "        sl = s\n",
    "        ne = np.abs(e)\n",
    "        s = s + v / ne\n",
    "        \n",
    "        # Successive iteration error\n",
    "        erri = np.linalg.norm(s - sl, np.inf)\n",
    "    \n",
    "    # Return results\n",
    "    return f, s, erri"
   ]
  },
  {
   "cell_type": "code",
   "execution_count": 9,
   "metadata": {},
   "outputs": [
    {
     "name": "stdout",
     "output_type": "stream",
     "text": [
      "[-2.         -2.         -2.         -2.         -0.66666667 -0.22222222\n",
      "  1.11111111  1.55555556  2.          2.        ]\n",
      "[-2.          1.55555556 -0.22222222 -2.          2.         -2.\n",
      "  2.         -2.         -0.66666667  1.11111111]\n"
     ]
    },
    {
     "ename": "ValueError",
     "evalue": "too many values to unpack (expected 2)",
     "output_type": "error",
     "traceback": [
      "\u001b[1;31m---------------------------------------------------------------------------\u001b[0m",
      "\u001b[1;31mValueError\u001b[0m                                Traceback (most recent call last)",
      "Cell \u001b[1;32mIn[9], line 21\u001b[0m\n\u001b[0;32m     18\u001b[0m \u001b[38;5;28mprint\u001b[39m(x)\n\u001b[0;32m     19\u001b[0m \u001b[38;5;28mprint\u001b[39m(y)\n\u001b[1;32m---> 21\u001b[0m f, s, erri \u001b[38;5;241m=\u001b[39m fornberg_method(n, itmax, x, y)\n\u001b[0;32m     22\u001b[0m \u001b[38;5;28mprint\u001b[39m(f)\n\u001b[0;32m     23\u001b[0m \u001b[38;5;28mprint\u001b[39m(s)\n",
      "Cell \u001b[1;32mIn[8], line 49\u001b[0m, in \u001b[0;36mfornberg_method\u001b[1;34m(n, itmax, x, y)\u001b[0m\n\u001b[0;32m     41\u001b[0m \u001b[38;5;28;01mdef\u001b[39;00m \u001b[38;5;21mfornberg_method\u001b[39m(n, itmax, x, y):\n\u001b[0;32m     42\u001b[0m     \u001b[38;5;66;03m# Fornberg's method for interior regions\u001b[39;00m\n\u001b[0;32m     43\u001b[0m     \u001b[38;5;66;03m# Parameters:\u001b[39;00m\n\u001b[1;32m   (...)\u001b[0m\n\u001b[0;32m     47\u001b[0m     \n\u001b[0;32m     48\u001b[0m     \u001b[38;5;66;03m# Fit x and y with a spline\u001b[39;00m\n\u001b[1;32m---> 49\u001b[0m     tck, _ \u001b[38;5;241m=\u001b[39m splrep(x, y, s\u001b[38;5;241m=\u001b[39m\u001b[38;5;241m0\u001b[39m)\n\u001b[0;32m     50\u001b[0m     t \u001b[38;5;241m=\u001b[39m np\u001b[38;5;241m.\u001b[39mlinspace(\u001b[38;5;241m0\u001b[39m, \u001b[38;5;241m1\u001b[39m, n, endpoint\u001b[38;5;241m=\u001b[39m\u001b[38;5;28;01mFalse\u001b[39;00m)\n\u001b[0;32m     51\u001b[0m     s \u001b[38;5;241m=\u001b[39m t \u001b[38;5;241m*\u001b[39m np\u001b[38;5;241m.\u001b[39mmax(tck[\u001b[38;5;241m0\u001b[39m])  \u001b[38;5;66;03m# Initial guess for boundary correspondence\u001b[39;00m\n",
      "\u001b[1;31mValueError\u001b[0m: too many values to unpack (expected 2)"
     ]
    }
   ],
   "source": [
    "# Testing of method\n",
    "n = 200000\n",
    "itmax = 1000\n",
    "\n",
    "# Define coordinates for a square\n",
    "x_square = np.array([-2, 2, 2, -2, -2])\n",
    "y_square = np.array([-2, -2, 2, 2, -2])\n",
    "\n",
    "# Interpolate more points to get 10 points on each side\n",
    "x = np.asarray(np.interp(np.linspace(0, len(x_square) - 1, 10), np.arange(len(x_square)), x_square))\n",
    "y = np.asarray(np.interp(np.linspace(0, len(y_square) - 1, 10), np.arange(len(y_square)), y_square))\n",
    "\n",
    "# Ensure x is strictly increasing\n",
    "x_sorted_idx = np.argsort(x)\n",
    "x = x[x_sorted_idx]\n",
    "y = y[x_sorted_idx]\n",
    "\n",
    "print(x)\n",
    "print(y)\n",
    "\n",
    "f, s, erri = fornberg_method(n, itmax, x, y)\n",
    "print(f)\n",
    "print(s)\n",
    "print(erri)"
   ]
  },
  {
   "cell_type": "code",
   "execution_count": 3,
   "metadata": {},
   "outputs": [
    {
     "name": "stderr",
     "output_type": "stream",
     "text": [
      "C:\\Users\\Nate\\AppData\\Local\\Temp\\ipykernel_13044\\1404872905.py:17: ComplexWarning: Casting complex values to real discards the imaginary part\n",
      "  f[0, :] = 0.1 + 0.9 * alpha / (alpha * cs + 1j * ss)\n",
      "C:\\Users\\Nate\\AppData\\Local\\Temp\\ipykernel_13044\\1404872905.py:18: ComplexWarning: Casting complex values to real discards the imaginary part\n",
      "  f[1, :] = -1 + 1.2j + 0.8 * alpha / (alpha * cs + 1j * ss)\n",
      "C:\\Users\\Nate\\AppData\\Local\\Temp\\ipykernel_13044\\1404872905.py:19: ComplexWarning: Casting complex values to real discards the imaginary part\n",
      "  f[2, :] = -2 + 0.8 * alpha / (alpha * cs + 1j * ss)\n",
      "C:\\Users\\Nate\\AppData\\Local\\Temp\\ipykernel_13044\\1404872905.py:20: ComplexWarning: Casting complex values to real discards the imaginary part\n",
      "  f[3, :] = -0.5 - 1.5j + cs - 0.6j * ss\n"
     ]
    },
    {
     "ename": "AttributeError",
     "evalue": "module 'matplotlib.pyplot' has no attribute 'hold'",
     "output_type": "error",
     "traceback": [
      "\u001b[1;31m---------------------------------------------------------------------------\u001b[0m",
      "\u001b[1;31mAttributeError\u001b[0m                            Traceback (most recent call last)",
      "Cell \u001b[1;32mIn[3], line 25\u001b[0m\n\u001b[0;32m     23\u001b[0m \u001b[38;5;28;01mfor\u001b[39;00m n \u001b[38;5;129;01min\u001b[39;00m \u001b[38;5;28mrange\u001b[39m(mc):\n\u001b[0;32m     24\u001b[0m     plt\u001b[38;5;241m.\u001b[39mplot(f[n, :], \u001b[38;5;124m'\u001b[39m\u001b[38;5;124m.\u001b[39m\u001b[38;5;124m'\u001b[39m)\n\u001b[1;32m---> 25\u001b[0m     plt\u001b[38;5;241m.\u001b[39mhold(\u001b[38;5;28;01mTrue\u001b[39;00m)\n\u001b[0;32m     26\u001b[0m plt\u001b[38;5;241m.\u001b[39maxis(\u001b[38;5;124m'\u001b[39m\u001b[38;5;124mequal\u001b[39m\u001b[38;5;124m'\u001b[39m)\n\u001b[0;32m     28\u001b[0m \u001b[38;5;28;01mfor\u001b[39;00m n \u001b[38;5;129;01min\u001b[39;00m \u001b[38;5;28mrange\u001b[39m(mc):\n",
      "\u001b[1;31mAttributeError\u001b[0m: module 'matplotlib.pyplot' has no attribute 'hold'"
     ]
    },
    {
     "data": {
      "image/png": "[encoded data removed]",
      "text/plain": [
       "<Figure size 640x480 with 1 Axes>"
      ]
     },
     "metadata": {},
     "output_type": "display_data"
    }
   ],
   "source": [
    "# visualization of Fornberg's method\n",
    "# not finished "
   ]
  }
 ],
 "metadata": {
  "kernelspec": {
   "display_name": "base",
   "language": "python",
   "name": "python3"
  },
  "language_info": {
   "codemirror_mode": {
    "name": "ipython",
    "version": 3
   },
   "file_extension": ".py",
   "mimetype": "text/x-python",
   "name": "python",
   "nbconvert_exporter": "python",
   "pygments_lexer": "ipython3",
   "version": "3.11.5"
  }
 },
 "nbformat": 4,
 "nbformat_minor": 2
}
